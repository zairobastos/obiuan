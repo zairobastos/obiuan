{
 "cells": [
  {
   "cell_type": "code",
   "execution_count": 20,
   "id": "e480f9e7",
   "metadata": {},
   "outputs": [],
   "source": [
    "from prompts import PROMPT_ASSUNTO, PROMPT_DIFICULDADE, PROMPT_SUBASSUNTO, REGRAS_SAIDA\n",
    "import json\n",
    "import os\n",
    "import pandas as pd\n",
    "from src.codes.questao import Questao"
   ]
  },
  {
   "cell_type": "markdown",
   "id": "a075a446",
   "metadata": {},
   "source": [
    "Como deve ser chamado cada um dos prompts\n",
    "\n",
    "```python\n",
    "assunto = PROMPT_ASSUNTO.format(\n",
    "\tenunciado=\"Teste\", \n",
    "\tregras_da_saida=REGRAS_SAIDA.format(\n",
    "\t\tregra=\"Fundamentos da Matemática, Fundamentos de Computação ou Algoritmos e Estruturas de Dados\"\n",
    "\t)\n",
    ")\n",
    "\n",
    "dificuldade = PROMPT_DIFICULDADE.format(\n",
    "\tenunciado=\"Teste\", \n",
    "\tregras_da_saida=REGRAS_SAIDA.format(\n",
    "\t\tregra=\"Fácil, Médio ou Difícil\"\n",
    "\t)\n",
    ")\n",
    "subassunto = PROMPT_SUBASSUNTO.format(\n",
    "\tenunciado=\"Teste\", \n",
    "\tassunto_principal=\"Algoritmos e Estruturas de Dados\",\n",
    "\tconteudo_estruturado_subassuntos = subassuntos('Algoritmos e Estruturas de Dados'),\n",
    "\tregras_da_saida=REGRAS_SAIDA.format(\n",
    "\t\tregra=\"<Grupo>, <Subassunto>, <Nível>\"\n",
    "\t)\n",
    ")\n",
    "```"
   ]
  },
  {
   "cell_type": "code",
   "execution_count": 2,
   "id": "ca2cb23d",
   "metadata": {},
   "outputs": [],
   "source": [
    "with open('src/data/conteudo.json', 'r') as file:\n",
    "\tconteudo = json.load(file)"
   ]
  },
  {
   "cell_type": "code",
   "execution_count": 14,
   "id": "f72e3110",
   "metadata": {},
   "outputs": [],
   "source": [
    "def subassuntos(assunto: str) -> str:\n",
    "\t\"\"\"\n",
    "\tRetorna os subassuntos disponíveis para o assunto especificado.\n",
    "\n",
    "\tArgs:\n",
    "\t\tassunto (str): O assunto para o qual se deseja obter os subassuntos.\n",
    "\n",
    "\tReturns:\n",
    "\t\tstr: Uma string formatada contendo os subassuntos e seus tópicos correspondentes.\n",
    "\t\"\"\"\n",
    "\tif assunto == 'Fundamentos de Matemática':\n",
    "\t\tindice = 0\n",
    "\telif assunto == 'Fundamentos de Computação':\n",
    "\t\tindice = 1\n",
    "\telif assunto == 'Algoritmos e Estruturas de Dados':\n",
    "\t\tindice = 2\n",
    "\t\n",
    "\tsubassunto = \"\"\n",
    "\tfor i,topico in enumerate(conteudo['conteudosEstruturados'][indice]['subsecoes'], start=1):\n",
    "\t\tsubassunto += f\"{i}. {topico['titulo']}\\n\"\n",
    "\t\tfor subtopico in topico['topicos']:\n",
    "\t\t\tsubassunto += f\"\\t[{subtopico['nivel']}] {subtopico['descricao']}\\n\"\n",
    "\n",
    "\treturn subassunto"
   ]
  },
  {
   "cell_type": "code",
   "execution_count": 21,
   "id": "4b0e5923",
   "metadata": {},
   "outputs": [],
   "source": [
    "link_questoes = pd.read_csv('questoes.csv')"
   ]
  }
 ],
 "metadata": {
  "kernelspec": {
   "display_name": "venv",
   "language": "python",
   "name": "python3"
  },
  "language_info": {
   "codemirror_mode": {
    "name": "ipython",
    "version": 3
   },
   "file_extension": ".py",
   "mimetype": "text/x-python",
   "name": "python",
   "nbconvert_exporter": "python",
   "pygments_lexer": "ipython3",
   "version": "3.13.3"
  }
 },
 "nbformat": 4,
 "nbformat_minor": 5
}
